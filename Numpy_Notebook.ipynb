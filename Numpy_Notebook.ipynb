{
 "cells": [
  {
   "cell_type": "markdown",
   "metadata": {},
   "source": [
    "#### AUTHOR: SUBHAM TEWARI\n",
    "\n",
    "#### ALL COPYRIGHTS RESERVED"
   ]
  },
  {
   "cell_type": "markdown",
   "metadata": {},
   "source": [
    "# Numpy Basics"
   ]
  },
  {
   "cell_type": "markdown",
   "metadata": {},
   "source": [
    "### How to create a Rank 1 Numpy Array"
   ]
  },
  {
   "cell_type": "code",
   "execution_count": 2,
   "metadata": {
    "collapsed": false
   },
   "outputs": [
    {
     "name": "stdout",
     "output_type": "stream",
     "text": [
      "<class 'numpy.ndarray'>\n"
     ]
    }
   ],
   "source": [
    "import numpy as np\n",
    "\n",
    "an_array=np.array([3,33,333]) # Create a Rank 1 array\n",
    "\n",
    "print(type(an_array)) # Type of an nd array is <class 'numpy.ndarray'>"
   ]
  },
  {
   "cell_type": "markdown",
   "metadata": {},
   "source": [
    "### Now we will check the dimensions of nd array that we created and it will be of a single dimension"
   ]
  },
  {
   "cell_type": "code",
   "execution_count": 11,
   "metadata": {
    "collapsed": false
   },
   "outputs": [
    {
     "name": "stdout",
     "output_type": "stream",
     "text": [
      "(3,)\n"
     ]
    }
   ],
   "source": [
    "print(an_array.shape) #Dimension of the nd array"
   ]
  },
  {
   "cell_type": "markdown",
   "metadata": {},
   "source": [
    "### Now we will print each element in the nd array using array indices"
   ]
  },
  {
   "cell_type": "code",
   "execution_count": 4,
   "metadata": {
    "collapsed": false
   },
   "outputs": [
    {
     "name": "stdout",
     "output_type": "stream",
     "text": [
      "3 33 333\n"
     ]
    }
   ],
   "source": [
    "print(an_array[0],an_array[1],an_array[2])"
   ]
  },
  {
   "cell_type": "markdown",
   "metadata": {},
   "source": [
    "### Now we will modify the value of the array index 0"
   ]
  },
  {
   "cell_type": "code",
   "execution_count": 5,
   "metadata": {
    "collapsed": false
   },
   "outputs": [
    {
     "name": "stdout",
     "output_type": "stream",
     "text": [
      "[888  33 333]\n"
     ]
    }
   ],
   "source": [
    "an_array[0]=888 # Nd array are mutable\n",
    "\n",
    "print(an_array)"
   ]
  },
  {
   "cell_type": "markdown",
   "metadata": {},
   "source": [
    "### How to create an Rank 2 array using numpy"
   ]
  },
  {
   "cell_type": "markdown",
   "metadata": {},
   "source": [
    "Rank two **ndarray** is one with two dimensions.Notice the format below [[row1],[row2]]"
   ]
  },
  {
   "cell_type": "code",
   "execution_count": 12,
   "metadata": {
    "collapsed": false
   },
   "outputs": [
    {
     "name": "stdout",
     "output_type": "stream",
     "text": [
      "[[  2  22 222]\n",
      " [  4  44 444]]\n",
      "The shape is 2 rows and 3 columns:  (2, 3)\n",
      "Accessing the elements with indices [0,0],[0,1],[1,0] in the np array:  2 22 4\n"
     ]
    }
   ],
   "source": [
    "another=np.array([[2,22,222],[4,44,444]]) # Rank 2 array\n",
    "\n",
    "print(another) # print the elements in the nd array\n",
    "\n",
    "print(\"The shape is 2 rows and 3 columns: \",another.shape) # shape of the np array\n",
    "\n",
    "print(\"Accessing the elements with indices [0,0],[0,1],[1,0] in the np array: \",another[0,0],another[0,1],another[1,0]) # Printing elements with indices [0,0],[0,1],[1,0] of the np aray"
   ]
  },
  {
   "cell_type": "markdown",
   "metadata": {},
   "source": [
    "### There are many ways to create a numpy array"
   ]
  },
  {
   "cell_type": "markdown",
   "metadata": {},
   "source": [
    "Here we create many **numpy array** with different sizes with different shapes and pre filled values"
   ]
  },
  {
   "cell_type": "code",
   "execution_count": 30,
   "metadata": {
    "collapsed": false
   },
   "outputs": [
    {
     "name": "stdout",
     "output_type": "stream",
     "text": [
      "[[ 0.  0.]\n",
      " [ 0.  0.]]\n"
     ]
    }
   ],
   "source": [
    "import numpy as np\n",
    "\n",
    "ex1=np.zeros((2,2)) # Create a 2*2 array filled with zeros\n",
    "\n",
    "print(ex1) # print the nd array"
   ]
  },
  {
   "cell_type": "code",
   "execution_count": 32,
   "metadata": {
    "collapsed": false
   },
   "outputs": [
    {
     "name": "stdout",
     "output_type": "stream",
     "text": [
      "[[ 9.  9.]\n",
      " [ 9.  9.]]\n"
     ]
    }
   ],
   "source": [
    "ex2=np.full((2,2),9.0) # Create a 2*2 array filled with 9.0\n",
    "\n",
    "print(ex2)  # print the nd array"
   ]
  },
  {
   "cell_type": "code",
   "execution_count": 37,
   "metadata": {
    "collapsed": false
   },
   "outputs": [
    {
     "name": "stdout",
     "output_type": "stream",
     "text": [
      "[[ 1.  0.]\n",
      " [ 0.  1.]]\n"
     ]
    }
   ],
   "source": [
    "ex3=np.eye(2,2) # Create a 2*2 array with diagonals elements 1\n",
    "\n",
    "print(ex3) # print the nd array"
   ]
  },
  {
   "cell_type": "code",
   "execution_count": 40,
   "metadata": {
    "collapsed": false
   },
   "outputs": [
    {
     "name": "stdout",
     "output_type": "stream",
     "text": [
      "[[ 1.  1.]]\n"
     ]
    }
   ],
   "source": [
    "ex4=np.ones((1,2)) # Create an array with all values 1s\n",
    "\n",
    "print(ex4) # print the nd array"
   ]
  },
  {
   "cell_type": "code",
   "execution_count": 41,
   "metadata": {
    "collapsed": false
   },
   "outputs": [
    {
     "name": "stdout",
     "output_type": "stream",
     "text": [
      "[[ 0.78963215  0.19506274]\n",
      " [ 0.72316859  0.04177671]]\n"
     ]
    }
   ],
   "source": [
    "ex5=np.random.random((2,2)) # Create a 2*2 matrix using random numbers\n",
    " \n",
    "print(ex5) # print the nd array"
   ]
  },
  {
   "cell_type": "markdown",
   "metadata": {},
   "source": [
    "### Array Indexing"
   ]
  },
  {
   "cell_type": "code",
   "execution_count": 55,
   "metadata": {
    "collapsed": false
   },
   "outputs": [
    {
     "name": "stdout",
     "output_type": "stream",
     "text": [
      "[[   1   11  111 1111]\n",
      " [   2   22  222 2222]\n",
      " [   3   33  333 3333]\n",
      " [   4   44  444 4444]]\n"
     ]
    }
   ],
   "source": [
    "import numpy as np\n",
    "\n",
    "an_array=np.array([[1,11,111,1111],[2,22,222,2222],[3,33,333,3333],[4,44,444,4444]]) # Create a nd array with shape(3,4)\n",
    "\n",
    "print(an_array) #print the nd array"
   ]
  },
  {
   "cell_type": "markdown",
   "metadata": {},
   "source": [
    "Use **array slicing** to create a subarray with first two rows and two columns"
   ]
  },
  {
   "cell_type": "code",
   "execution_count": 85,
   "metadata": {
    "collapsed": false
   },
   "outputs": [
    {
     "name": "stdout",
     "output_type": "stream",
     "text": [
      "[[  11  111]\n",
      " [3022  222]]\n"
     ]
    }
   ],
   "source": [
    "a_slice=an_array[:2,1:3] # Create a sub array with first two rows and two columns\n",
    "\n",
    "print(a_slice) # print the nd array"
   ]
  },
  {
   "cell_type": "markdown",
   "metadata": {},
   "source": [
    "Now if we modify **a_slice** array it will reflect in the original an_array because a_slice is just a reference of the original array **an_array** "
   ]
  },
  {
   "cell_type": "code",
   "execution_count": 86,
   "metadata": {
    "collapsed": false
   },
   "outputs": [
    {
     "name": "stdout",
     "output_type": "stream",
     "text": [
      "Before assigning:  11\n",
      "Value after assigning:  0\n"
     ]
    }
   ],
   "source": [
    "print(\"Before assigning: \",an_array[0,1]) \n",
    "\n",
    "a_slice[0,0]=0\n",
    "\n",
    "print(\"Value after assigning: \",an_array[0,1])"
   ]
  },
  {
   "cell_type": "markdown",
   "metadata": {},
   "source": [
    "So we can see that even when we change the value of a_slice array of index (0,0) it is being reflected in the original array named an_array"
   ]
  },
  {
   "cell_type": "markdown",
   "metadata": {},
   "source": [
    "Now to create a sub array which doesn't modify the original array we have to do it in **another way**"
   ]
  },
  {
   "cell_type": "code",
   "execution_count": 87,
   "metadata": {
    "collapsed": false
   },
   "outputs": [
    {
     "name": "stdout",
     "output_type": "stream",
     "text": [
      "[[   1   11  111 1111]\n",
      " [   2   22  222 2222]\n",
      " [   3   33  333 3333]\n",
      " [   4   44  444 4444]]\n"
     ]
    }
   ],
   "source": [
    "import numpy as np\n",
    "\n",
    "an_array=np.array([[1,11,111,1111],[2,22,222,2222],[3,33,333,3333],[4,44,444,4444]]) # Create a nd array with shape(3,4)\n",
    "\n",
    "print(an_array) #print the nd array"
   ]
  },
  {
   "cell_type": "code",
   "execution_count": 88,
   "metadata": {
    "collapsed": false
   },
   "outputs": [
    {
     "name": "stdout",
     "output_type": "stream",
     "text": [
      "[[ 11 111]\n",
      " [ 22 222]]\n"
     ]
    }
   ],
   "source": [
    "a_slice=np.array(an_array[:2,1:3])\n",
    "\n",
    "print(a_slice)"
   ]
  },
  {
   "cell_type": "code",
   "execution_count": 89,
   "metadata": {
    "collapsed": false
   },
   "outputs": [
    {
     "name": "stdout",
     "output_type": "stream",
     "text": [
      "Before assigning:  11\n",
      "After assigning:  11\n"
     ]
    }
   ],
   "source": [
    "print(\"Before assigning: \",an_array[0,1])\n",
    "\n",
    "a_slice[0,0]=0\n",
    "\n",
    "print(\"After assigning: \",an_array[0,1])"
   ]
  },
  {
   "cell_type": "markdown",
   "metadata": {},
   "source": [
    "So we can see that the original array **an_array** even though we changed the value of the **a_slice** array"
   ]
  },
  {
   "cell_type": "markdown",
   "metadata": {},
   "source": [
    "### Indexing and Slicing "
   ]
  },
  {
   "cell_type": "code",
   "execution_count": 90,
   "metadata": {
    "collapsed": false
   },
   "outputs": [
    {
     "name": "stdout",
     "output_type": "stream",
     "text": [
      "[[   1   11  111 1111]\n",
      " [   2   22  222 2222]\n",
      " [   3   33  333 3333]\n",
      " [   4   44  444 4444]]\n"
     ]
    }
   ],
   "source": [
    "import numpy as np\n",
    "\n",
    "an_array=np.array([[1,11,111,1111],[2,22,222,2222],[3,33,333,3333],[4,44,444,4444]])\n",
    "\n",
    "print(an_array)"
   ]
  },
  {
   "cell_type": "code",
   "execution_count": 91,
   "metadata": {
    "collapsed": false
   },
   "outputs": [
    {
     "name": "stdout",
     "output_type": "stream",
     "text": [
      "[   2   22  222 2222] (4,)\n"
     ]
    }
   ],
   "source": [
    "row_rank1=an_array[1,:] # Using indexing and slicing produces an array of lower rank\n",
    "\n",
    "print(row_rank1,row_rank1.shape) # Notice only one []"
   ]
  },
  {
   "cell_type": "code",
   "execution_count": 92,
   "metadata": {
    "collapsed": false
   },
   "outputs": [
    {
     "name": "stdout",
     "output_type": "stream",
     "text": [
      "[[   2   22  222 2222]] (1, 4)\n"
     ]
    }
   ],
   "source": [
    "row_rank2=an_array[1:2,:] # Using slicing generates an array of same rank\n",
    "\n",
    "print(row_rank2,row_rank2.shape) # Notice only one [[]]"
   ]
  },
  {
   "cell_type": "markdown",
   "metadata": {},
   "source": [
    "We will do the same thing with the columns now"
   ]
  },
  {
   "cell_type": "code",
   "execution_count": 93,
   "metadata": {
    "collapsed": false
   },
   "outputs": [
    {
     "name": "stdout",
     "output_type": "stream",
     "text": [
      "[11 22 33 44] (4,)\n",
      "\n",
      "[[11]\n",
      " [22]\n",
      " [33]\n",
      " [44]] (4, 1)\n"
     ]
    }
   ],
   "source": [
    "col_rank1=an_array[:,1] # Rank 1\n",
    "\n",
    "print(col_rank1,col_rank1.shape)\n",
    "\n",
    "print()\n",
    "\n",
    "col_rank2=an_array[:,1:2] # Rank 2\n",
    "\n",
    "print(col_rank2,col_rank2.shape)"
   ]
  },
  {
   "cell_type": "markdown",
   "metadata": {},
   "source": [
    "### Array Indexing for changing elements"
   ]
  },
  {
   "cell_type": "code",
   "execution_count": 94,
   "metadata": {
    "collapsed": false
   },
   "outputs": [
    {
     "name": "stdout",
     "output_type": "stream",
     "text": [
      "[[   1   11  111 1111]\n",
      " [   2   22  222 2222]\n",
      " [   3   33  333 3333]\n",
      " [   4   44  444 4444]]\n"
     ]
    }
   ],
   "source": [
    "import numpy as np\n",
    "\n",
    "an_array=np.array([[1,11,111,1111],[2,22,222,2222],[3,33,333,3333],[4,44,444,4444]])\n",
    "\n",
    "print(an_array)"
   ]
  },
  {
   "cell_type": "markdown",
   "metadata": {},
   "source": [
    "Now we will create an array with indices"
   ]
  },
  {
   "cell_type": "code",
   "execution_count": 95,
   "metadata": {
    "collapsed": false
   },
   "outputs": [
    {
     "name": "stdout",
     "output_type": "stream",
     "text": [
      "\n",
      "Col Indices picked:  [0 1 2 0]\n",
      "\n",
      "Row indices picked:  [0 1 2 3]\n"
     ]
    }
   ],
   "source": [
    "col_indices=np.array([0,1,2,0])\n",
    "\n",
    "print(\"\\nCol Indices picked: \",col_indices)\n",
    "\n",
    "row_indices=np.arange(4)\n",
    "\n",
    "print(\"\\nRow indices picked: \",row_indices)"
   ]
  },
  {
   "cell_type": "code",
   "execution_count": 96,
   "metadata": {
    "collapsed": false
   },
   "outputs": [
    {
     "name": "stdout",
     "output_type": "stream",
     "text": [
      "0 , 0\n",
      "1 , 1\n",
      "2 , 2\n",
      "3 , 0\n"
     ]
    }
   ],
   "source": [
    "for row,col in zip(row_indices,col_indices):\n",
    "    \n",
    "    print(row,\",\",col)"
   ]
  },
  {
   "cell_type": "code",
   "execution_count": 97,
   "metadata": {
    "collapsed": false
   },
   "outputs": [
    {
     "name": "stdout",
     "output_type": "stream",
     "text": [
      "Values of array at those indices:  [  1  22 333   4]\n"
     ]
    }
   ],
   "source": [
    "print(\"Values of array at those indices: \",an_array[row_indices,col_indices])"
   ]
  },
  {
   "cell_type": "code",
   "execution_count": 98,
   "metadata": {
    "collapsed": false
   },
   "outputs": [
    {
     "name": "stdout",
     "output_type": "stream",
     "text": [
      "\n",
      "Changed Array:\n",
      "\n",
      " [[1001   11  111 1111]\n",
      " [   2 1022  222 2222]\n",
      " [   3   33 1333 3333]\n",
      " [1004   44  444 4444]]\n"
     ]
    }
   ],
   "source": [
    "an_array[row_indices,col_indices]+=1000\n",
    "\n",
    "print(\"\\nChanged Array:\")\n",
    "\n",
    "print(\"\\n\",an_array)"
   ]
  },
  {
   "cell_type": "markdown",
   "metadata": {},
   "source": [
    "### Boolean Indexing "
   ]
  },
  {
   "cell_type": "code",
   "execution_count": 100,
   "metadata": {
    "collapsed": false
   },
   "outputs": [
    {
     "name": "stdout",
     "output_type": "stream",
     "text": [
      "[[11 12]\n",
      " [21 22]\n",
      " [31 32]]\n"
     ]
    }
   ],
   "source": [
    "# create a 3*2 array\n",
    "\n",
    "an_array=np.array([[11,12],[21,22],[31,32]])\n",
    "\n",
    "print(an_array)"
   ]
  },
  {
   "cell_type": "code",
   "execution_count": 102,
   "metadata": {
    "collapsed": false
   },
   "outputs": [
    {
     "data": {
      "text/plain": [
       "array([[False, False],\n",
       "       [ True,  True],\n",
       "       [ True,  True]], dtype=bool)"
      ]
     },
     "execution_count": 102,
     "metadata": {},
     "output_type": "execute_result"
    }
   ],
   "source": [
    "# create a filter which will give true if the condition is met and false if the condition is not matched\n",
    "\n",
    "filter=an_array>15\n",
    "\n",
    "filter"
   ]
  },
  {
   "cell_type": "markdown",
   "metadata": {},
   "source": [
    "**Notice:** The filter array is of the same size as the nd array an_array which is filled with True if the corresponding element is >15 and false if the corresponding element is <15"
   ]
  },
  {
   "cell_type": "code",
   "execution_count": 103,
   "metadata": {
    "collapsed": false
   },
   "outputs": [
    {
     "name": "stdout",
     "output_type": "stream",
     "text": [
      "[21 22 31 32]\n"
     ]
    }
   ],
   "source": [
    "# Now we can select only those elements which meet the criteria\n",
    "\n",
    "print(an_array[filter])"
   ]
  },
  {
   "cell_type": "code",
   "execution_count": 105,
   "metadata": {
    "collapsed": false
   },
   "outputs": [
    {
     "data": {
      "text/plain": [
       "array([21, 22, 31, 32])"
      ]
     },
     "execution_count": 105,
     "metadata": {},
     "output_type": "execute_result"
    }
   ],
   "source": [
    "# For short we can do it in one line\n",
    "\n",
    "an_array[an_array>15]"
   ]
  },
  {
   "cell_type": "markdown",
   "metadata": {},
   "source": [
    "This is very useful as we can also change the actual value of the elements in the array applying some logical filter"
   ]
  },
  {
   "cell_type": "code",
   "execution_count": 106,
   "metadata": {
    "collapsed": false
   },
   "outputs": [
    {
     "name": "stdout",
     "output_type": "stream",
     "text": [
      "[[ 11 112]\n",
      " [ 21 122]\n",
      " [ 31 132]]\n"
     ]
    }
   ],
   "source": [
    "an_array[an_array%2==0]+=100\n",
    "\n",
    "print(an_array)"
   ]
  },
  {
   "cell_type": "markdown",
   "metadata": {},
   "source": [
    "### Datatypes and Array Operations"
   ]
  },
  {
   "cell_type": "markdown",
   "metadata": {},
   "source": [
    "**<span style=\"color:red\">Datatypes:</span>**"
   ]
  },
  {
   "cell_type": "code",
   "execution_count": 109,
   "metadata": {
    "collapsed": false
   },
   "outputs": [
    {
     "name": "stdout",
     "output_type": "stream",
     "text": [
      "int64\n"
     ]
    }
   ],
   "source": [
    "ex1=np.array([11,12]) #Python assigns the datatype\n",
    "\n",
    "print(ex1.dtype)"
   ]
  },
  {
   "cell_type": "code",
   "execution_count": 111,
   "metadata": {
    "collapsed": false
   },
   "outputs": [
    {
     "name": "stdout",
     "output_type": "stream",
     "text": [
      "float64\n"
     ]
    }
   ],
   "source": [
    "ex1=np.array([11.0,12.0]) #Python assigns the datatype\n",
    "\n",
    "print(ex1.dtype)"
   ]
  },
  {
   "cell_type": "code",
   "execution_count": 114,
   "metadata": {
    "collapsed": false
   },
   "outputs": [
    {
     "name": "stdout",
     "output_type": "stream",
     "text": [
      "int64\n"
     ]
    }
   ],
   "source": [
    "ex3=np.array([11.0,12.0],dtype=np.int64) #User can also assign the datatype \n",
    "\n",
    "print(ex3.dtype)"
   ]
  },
  {
   "cell_type": "code",
   "execution_count": 121,
   "metadata": {
    "collapsed": false
   },
   "outputs": [
    {
     "name": "stdout",
     "output_type": "stream",
     "text": [
      "int64\n",
      "\n",
      "[11 12]\n"
     ]
    }
   ],
   "source": [
    "ex4=np.array([11.8,12.4],dtype=np.int64) #User can also assign the datatype and use it force the floats into integers(floor function)\n",
    "\n",
    "print(ex4.dtype)\n",
    "\n",
    "print()\n",
    "\n",
    "print(ex4)"
   ]
  },
  {
   "cell_type": "code",
   "execution_count": 122,
   "metadata": {
    "collapsed": false
   },
   "outputs": [
    {
     "name": "stdout",
     "output_type": "stream",
     "text": [
      "float64\n",
      "\n",
      "[ 11.  12.]\n"
     ]
    }
   ],
   "source": [
    "ex5=np.array([11,12],dtype=np.float64) #User can also assign the datatype and convert the integers into float as we don't lose any data\n",
    "\n",
    "print(ex5.dtype)\n",
    "\n",
    "print()\n",
    "\n",
    "print(ex5)"
   ]
  },
  {
   "cell_type": "markdown",
   "metadata": {},
   "source": [
    "### Arithmetic Array Operations:"
   ]
  },
  {
   "cell_type": "code",
   "execution_count": 124,
   "metadata": {
    "collapsed": false
   },
   "outputs": [
    {
     "name": "stdout",
     "output_type": "stream",
     "text": [
      "[[11 22]\n",
      " [21 31]]\n",
      "\n",
      "[[ 12.2  13.4]\n",
      " [ 14.6  16.7]]\n"
     ]
    }
   ],
   "source": [
    "x=np.array([[11,22],[21,31]],dtype=np.int) \n",
    "\n",
    "y=np.array([[12.2,13.4],[14.6,16.7]],dtype=np.float64)\n",
    "\n",
    "print(x)\n",
    "\n",
    "print()\n",
    "\n",
    "print(y)"
   ]
  },
  {
   "cell_type": "markdown",
   "metadata": {},
   "source": [
    "Now we will add both the arrays"
   ]
  },
  {
   "cell_type": "code",
   "execution_count": 126,
   "metadata": {
    "collapsed": false
   },
   "outputs": [
    {
     "name": "stdout",
     "output_type": "stream",
     "text": [
      "[[ 23.2  35.4]\n",
      " [ 35.6  47.7]]\n",
      "\n",
      "[[ 23.2  35.4]\n",
      " [ 35.6  47.7]]\n"
     ]
    }
   ],
   "source": [
    "print(x+y) #Plus sign works\n",
    "\n",
    "print()\n",
    "\n",
    "print(np.add(x,y)) # More suitable with np.add()"
   ]
  },
  {
   "cell_type": "code",
   "execution_count": 128,
   "metadata": {
    "collapsed": false
   },
   "outputs": [
    {
     "name": "stdout",
     "output_type": "stream",
     "text": [
      "[[ -1.2   8.6]\n",
      " [  6.4  14.3]]\n",
      "\n",
      "[[ -1.2   8.6]\n",
      " [  6.4  14.3]]\n"
     ]
    }
   ],
   "source": [
    "print(x-y) #Minus sign works\n",
    "\n",
    "print()\n",
    "\n",
    "print(np.subtract(x,y)) # More suitable with np.subtract()"
   ]
  },
  {
   "cell_type": "code",
   "execution_count": 129,
   "metadata": {
    "collapsed": false
   },
   "outputs": [
    {
     "name": "stdout",
     "output_type": "stream",
     "text": [
      "[[ 134.2  294.8]\n",
      " [ 306.6  517.7]]\n",
      "\n",
      "[[ 134.2  294.8]\n",
      " [ 306.6  517.7]]\n"
     ]
    }
   ],
   "source": [
    "print(x*y) #Multiply sign works\n",
    "\n",
    "print()\n",
    "\n",
    "print(np.multiply(x,y)) # More suitable with np.multiply()"
   ]
  },
  {
   "cell_type": "code",
   "execution_count": 130,
   "metadata": {
    "collapsed": false
   },
   "outputs": [
    {
     "name": "stdout",
     "output_type": "stream",
     "text": [
      "[[ 0.90163934  1.64179104]\n",
      " [ 1.43835616  1.85628743]]\n",
      "\n",
      "[[ 0.90163934  1.64179104]\n",
      " [ 1.43835616  1.85628743]]\n"
     ]
    }
   ],
   "source": [
    "print(x/y) #Divide sign works\n",
    "\n",
    "print()\n",
    "\n",
    "print(np.divide(x,y)) # More suitable with np.multiply()"
   ]
  },
  {
   "cell_type": "code",
   "execution_count": 133,
   "metadata": {
    "collapsed": false
   },
   "outputs": [
    {
     "name": "stdout",
     "output_type": "stream",
     "text": [
      "[[ 3.31662479  4.69041576]\n",
      " [ 4.58257569  5.56776436]]\n"
     ]
    }
   ],
   "source": [
    "#Square root of all the elements of an array\n",
    "\n",
    "print(np.sqrt(x))"
   ]
  },
  {
   "cell_type": "code",
   "execution_count": 134,
   "metadata": {
    "collapsed": false
   },
   "outputs": [
    {
     "name": "stdout",
     "output_type": "stream",
     "text": [
      "[[  5.98741417e+04   3.58491285e+09]\n",
      " [  1.31881573e+09   2.90488497e+13]]\n"
     ]
    }
   ],
   "source": [
    "#Exponent of all the elements in the array\n",
    "\n",
    "print(np.exp(x))"
   ]
  },
  {
   "cell_type": "markdown",
   "metadata": {},
   "source": [
    "### Statistical Methods,Sorting and Set Operations"
   ]
  },
  {
   "cell_type": "markdown",
   "metadata": {},
   "source": [
    "**<span style=\"color:blue\",font size:32>Basic Statistical Operations:</span>**"
   ]
  },
  {
   "cell_type": "code",
   "execution_count": 137,
   "metadata": {
    "collapsed": false
   },
   "outputs": [
    {
     "name": "stdout",
     "output_type": "stream",
     "text": [
      "[[  5.56586055   1.80138458  17.12806386 -17.10988161   6.45168485]\n",
      " [  8.4512      12.97101804  14.40123016 -20.4668741   -2.49270923]]\n"
     ]
    }
   ],
   "source": [
    "# Setup an 2*5 array with random elements\n",
    "\n",
    "arr=10*np.random.randn(2,5)\n",
    "\n",
    "print(arr)"
   ]
  },
  {
   "cell_type": "code",
   "execution_count": 138,
   "metadata": {
    "collapsed": false
   },
   "outputs": [
    {
     "name": "stdout",
     "output_type": "stream",
     "text": [
      "2.67009771032\n"
     ]
    }
   ],
   "source": [
    "# Printing the mean of all the elements of the array\n",
    "\n",
    "print(arr.mean())"
   ]
  },
  {
   "cell_type": "code",
   "execution_count": 141,
   "metadata": {
    "collapsed": false
   },
   "outputs": [
    {
     "name": "stdout",
     "output_type": "stream",
     "text": [
      "[ 2.76742245  2.57277298]\n"
     ]
    }
   ],
   "source": [
    "# We can also get the mean of all the elements of each row of an array\n",
    "\n",
    "print(arr.mean(axis=1))"
   ]
  },
  {
   "cell_type": "code",
   "execution_count": 142,
   "metadata": {
    "collapsed": false
   },
   "outputs": [
    {
     "name": "stdout",
     "output_type": "stream",
     "text": [
      "[  7.00853027   7.38620131  15.76464701 -18.78837785   1.97948781]\n"
     ]
    }
   ],
   "source": [
    "# We can also compute the mean of all the elements of each column of an array\n",
    "\n",
    "print(arr.mean(axis=0))"
   ]
  },
  {
   "cell_type": "code",
   "execution_count": 143,
   "metadata": {
    "collapsed": false
   },
   "outputs": [
    {
     "name": "stdout",
     "output_type": "stream",
     "text": [
      "26.7009771032\n"
     ]
    }
   ],
   "source": [
    "# We can also compute the sum of all the elements of an array\n",
    "\n",
    "print(arr.sum())"
   ]
  },
  {
   "cell_type": "code",
   "execution_count": 146,
   "metadata": {
    "collapsed": false
   },
   "outputs": [
    {
     "name": "stdout",
     "output_type": "stream",
     "text": [
      "[ 5.56586055  8.4512    ]\n"
     ]
    }
   ],
   "source": [
    "# We can also compute the medians of all the elements of each row in the array\n",
    "\n",
    "print(np.median(arr,axis=1))"
   ]
  },
  {
   "cell_type": "markdown",
   "metadata": {},
   "source": [
    "**<span style=\"color:blue\",font size:32>Sorting:</span>**"
   ]
  },
  {
   "cell_type": "code",
   "execution_count": 149,
   "metadata": {
    "collapsed": false
   },
   "outputs": [
    {
     "name": "stdout",
     "output_type": "stream",
     "text": [
      "[ 0.20191329 -1.69535181 -0.24742385 -0.73901397  0.13781639 -1.95696971\n",
      " -1.86013086 -0.51548782 -0.90163687  0.6263631 ]\n"
     ]
    }
   ],
   "source": [
    "# Create a array of random elements\n",
    "\n",
    "unsorted=np.random.randn(10)\n",
    "\n",
    "print(unsorted)"
   ]
  },
  {
   "cell_type": "code",
   "execution_count": 155,
   "metadata": {
    "collapsed": false
   },
   "outputs": [
    {
     "name": "stdout",
     "output_type": "stream",
     "text": [
      "\n",
      "Sorted Array:\n",
      " [-1.95696971 -1.86013086 -1.69535181 -0.90163687 -0.73901397 -0.51548782\n",
      " -0.24742385  0.13781639  0.20191329  0.6263631 ]\n",
      "\n",
      "Unsorted Array:\n",
      " [ 0.20191329 -1.69535181 -0.24742385 -0.73901397  0.13781639 -1.95696971\n",
      " -1.86013086 -0.51548782 -0.90163687  0.6263631 ]\n"
     ]
    }
   ],
   "source": [
    "# Create a copy and then sort the array\n",
    "\n",
    "sorted=np.array(unsorted)\n",
    "\n",
    "sorted.sort()\n",
    "\n",
    "print(\"\\nSorted Array:\\n\",sorted)\n",
    "\n",
    "print(\"\\nUnsorted Array:\\n\",unsorted)"
   ]
  },
  {
   "cell_type": "markdown",
   "metadata": {},
   "source": [
    "**<span style=\"color:blue\",font size:32>Finding Unique Elements:</span>**"
   ]
  },
  {
   "cell_type": "code",
   "execution_count": 158,
   "metadata": {
    "collapsed": false
   },
   "outputs": [
    {
     "name": "stdout",
     "output_type": "stream",
     "text": [
      "[1 2 3 4 5 7 8]\n"
     ]
    }
   ],
   "source": [
    "array=np.array([1,2,1,3,4,5,4,1,4,7,8,5]) # Array contains duplicate values\n",
    "\n",
    "print(np.unique(array)) # Print only unique values"
   ]
  },
  {
   "cell_type": "markdown",
   "metadata": {},
   "source": [
    "**<span style=\"color:blue\",font size:32>Set Operations with np.array data types:</span>**"
   ]
  },
  {
   "cell_type": "code",
   "execution_count": 159,
   "metadata": {
    "collapsed": false
   },
   "outputs": [
    {
     "name": "stdout",
     "output_type": "stream",
     "text": [
      "['bulb' 'chair' 'desk'] ['lamp' 'bulb' 'chair']\n"
     ]
    }
   ],
   "source": [
    "# Create two arrays \n",
    "\n",
    "s1=np.array([\"bulb\",\"chair\",\"desk\"])\n",
    "\n",
    "s2=np.array([\"lamp\",\"bulb\",\"chair\"])\n",
    "\n",
    "print(s1,s2)"
   ]
  },
  {
   "cell_type": "code",
   "execution_count": 163,
   "metadata": {
    "collapsed": false
   },
   "outputs": [
    {
     "name": "stdout",
     "output_type": "stream",
     "text": [
      "['bulb' 'chair']\n"
     ]
    }
   ],
   "source": [
    "print(np.intersect1d(s1,s2)) # Gives the intersection of the two arrays"
   ]
  },
  {
   "cell_type": "code",
   "execution_count": 164,
   "metadata": {
    "collapsed": false
   },
   "outputs": [
    {
     "name": "stdout",
     "output_type": "stream",
     "text": [
      "['bulb' 'chair' 'desk' 'lamp']\n"
     ]
    }
   ],
   "source": [
    "print(np.union1d(s1,s2)) # Gives the union of the two arrays"
   ]
  },
  {
   "cell_type": "code",
   "execution_count": 168,
   "metadata": {
    "collapsed": false
   },
   "outputs": [
    {
     "name": "stdout",
     "output_type": "stream",
     "text": [
      "['desk']\n"
     ]
    }
   ],
   "source": [
    "print(np.setdiff1d(s1,s2)) # Gives the elements in S1 that are not in S2"
   ]
  },
  {
   "cell_type": "code",
   "execution_count": 167,
   "metadata": {
    "collapsed": false
   },
   "outputs": [
    {
     "name": "stdout",
     "output_type": "stream",
     "text": [
      "[ True  True False]\n"
     ]
    }
   ],
   "source": [
    "print(np.in1d(s1,s2)) # Gives the elements in S1 which are also in S2 in boolean values"
   ]
  },
  {
   "cell_type": "markdown",
   "metadata": {},
   "source": [
    "### Broadcasting"
   ]
  },
  {
   "cell_type": "code",
   "execution_count": 170,
   "metadata": {
    "collapsed": false
   },
   "outputs": [
    {
     "name": "stdout",
     "output_type": "stream",
     "text": [
      "[[ 0.  0.  0.]\n",
      " [ 0.  0.  0.]\n",
      " [ 0.  0.  0.]\n",
      " [ 0.  0.  0.]]\n"
     ]
    }
   ],
   "source": [
    "# Create a 4*3 array of zeros\n",
    "\n",
    "array=np.zeros((4,3))\n",
    "\n",
    "print(array)"
   ]
  },
  {
   "cell_type": "code",
   "execution_count": 171,
   "metadata": {
    "collapsed": false
   },
   "outputs": [
    {
     "name": "stdout",
     "output_type": "stream",
     "text": [
      "[1 0 2]\n"
     ]
    }
   ],
   "source": [
    "# Create a rank 1 nd array with three values \n",
    "\n",
    "add_rows=np.array([1,0,2])\n",
    "\n",
    "print(add_rows)"
   ]
  },
  {
   "cell_type": "code",
   "execution_count": 172,
   "metadata": {
    "collapsed": false
   },
   "outputs": [
    {
     "name": "stdout",
     "output_type": "stream",
     "text": [
      "[[ 1.  0.  2.]\n",
      " [ 1.  0.  2.]\n",
      " [ 1.  0.  2.]\n",
      " [ 1.  0.  2.]]\n"
     ]
    }
   ],
   "source": [
    "y=array+add_rows # add each row of array using add_rows\n",
    "\n",
    "print(y)"
   ]
  },
  {
   "cell_type": "markdown",
   "metadata": {},
   "source": [
    "So here we can see that we want to add a row matrix add_rows to each of the rows of array then we can do it in numpy by using broadcasting"
   ]
  },
  {
   "cell_type": "code",
   "execution_count": 177,
   "metadata": {
    "collapsed": false
   },
   "outputs": [
    {
     "name": "stdout",
     "output_type": "stream",
     "text": [
      "[[0]\n",
      " [1]\n",
      " [2]\n",
      " [3]]\n"
     ]
    }
   ],
   "source": [
    "# Create a nd array of 4*1 to broadcast along columns\n",
    "\n",
    "add_columns=np.array([[0,1,2,3]])\n",
    "\n",
    "add_columns=add_columns.T\n",
    "\n",
    "print(add_columns)"
   ]
  },
  {
   "cell_type": "code",
   "execution_count": 179,
   "metadata": {
    "collapsed": false
   },
   "outputs": [
    {
     "name": "stdout",
     "output_type": "stream",
     "text": [
      "[[ 0.  0.  0.]\n",
      " [ 1.  1.  1.]\n",
      " [ 2.  2.  2.]\n",
      " [ 3.  3.  3.]]\n"
     ]
    }
   ],
   "source": [
    "y=array+add_columns #add to each column of the array\n",
    "\n",
    "print(y)"
   ]
  },
  {
   "cell_type": "code",
   "execution_count": 181,
   "metadata": {
    "collapsed": false
   },
   "outputs": [
    {
     "name": "stdout",
     "output_type": "stream",
     "text": [
      "[[ 1.  1.  1.]\n",
      " [ 1.  1.  1.]\n",
      " [ 1.  1.  1.]\n",
      " [ 1.  1.  1.]]\n"
     ]
    }
   ],
   "source": [
    "# This will broadcast in both the dimensions\n",
    "\n",
    "add_scalar=np.array([1])\n",
    "\n",
    "print(array+add_scalar)"
   ]
  }
 ],
 "metadata": {
  "kernelspec": {
   "display_name": "Python 3",
   "language": "python",
   "name": "python3"
  },
  "language_info": {
   "codemirror_mode": {
    "name": "ipython",
    "version": 3
   },
   "file_extension": ".py",
   "mimetype": "text/x-python",
   "name": "python",
   "nbconvert_exporter": "python",
   "pygments_lexer": "ipython3",
   "version": "3.5.3"
  }
 },
 "nbformat": 4,
 "nbformat_minor": 2
}
